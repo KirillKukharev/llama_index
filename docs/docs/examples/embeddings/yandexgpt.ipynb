{
 "cells": [
  {
   "cell_type": "code",
   "execution_count": null,
   "metadata": {},
   "outputs": [],
   "source": [
    "%pip install llama-index-embeddings-yandexgpt"
   ]
  },
  {
   "cell_type": "code",
   "execution_count": null,
   "metadata": {},
   "outputs": [],
   "source": [
    "!pip install llama-index"
   ]
  },
  {
   "cell_type": "code",
   "execution_count": null,
   "metadata": {},
   "outputs": [],
   "source": [
    "from llama_index.embeddings.yandexgpt import YandexGPTEmbedding\n",
    "\n",
    "yandexgpt_embedding = YandexGPTEmbedding(\n",
    "    api_key=\"your-api-key\", folder_id=\"your-folder-id\"\n",
    ")\n",
    "\n",
    "pass_embedding = yandexgpt_embedding.get_query_embeddings(\n",
    "    [\"This is a passage!\", \"This is another passage\"]\n",
    ")\n",
    "print(pass_embedding)\n",
    "\n",
    "text_embedding = yandexgpt_embedding.get_text_embedding(\"Where is blue?\")\n",
    "print(query_embedding)"
   ]
  }
 ],
 "metadata": {
  "colab": {
   "provenance": []
  },
  "kernelspec": {
   "display_name": "Python 3",
   "name": "python3"
  },
  "language_info": {
   "name": "python"
  }
 },
 "nbformat": 4,
 "nbformat_minor": 0
}
