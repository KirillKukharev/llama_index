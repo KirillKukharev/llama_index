{
  "nbformat": 4,
  "nbformat_minor": 0,
  "metadata": {
    "colab": {
      "provenance": []
    },
    "kernelspec": {
      "name": "python3",
      "display_name": "Python 3"
    },
    "language_info": {
      "name": "python"
    }
  },
  "cells": [
    {
      "cell_type": "code",
      "execution_count": null,
      "metadata": {
        "id": "gduLlHughQWs"
      },
      "outputs": [],
      "source": [
        "%pip install llama-index-embeddings-yandexgpt"
      ]
    },
    {
      "cell_type": "code",
      "source": [
        "!pip install llama-index"
      ],
      "metadata": {
        "id": "rDah17JJhVAs"
      },
      "execution_count": null,
      "outputs": []
    },
    {
      "cell_type": "code",
      "source": [
        "from llama_index.embeddings.yandexgpt import YandexGPTEmbedding\n",
        "\n",
        "yandexgpt_embedding = YandexGPTEmbedding(\n",
        "    api_key = \"your-api-key\",\n",
        "    folder_id = \"your-folder-id\"\n",
        ")\n",
        "\n",
        "pass_embedding = yandexgpt_embedding.get_query_embeddings(\n",
        "    [\"This is a passage!\", \"This is another passage\"]\n",
        ")\n",
        "print(pass_embedding)\n",
        "\n",
        "text_embedding = yandexgpt_embedding.get_text_embedding(\"Where is blue?\")\n",
        "print(query_embedding)"
      ],
      "metadata": {
        "id": "aAj1IZLqhZLh"
      },
      "execution_count": null,
      "outputs": []
    }
  ]
}